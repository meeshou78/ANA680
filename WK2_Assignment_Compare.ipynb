{
 "cells": [
  {
   "cell_type": "code",
   "execution_count": 9,
   "id": "7e4f7572-dbcf-4e32-8aa6-82a4516794f3",
   "metadata": {},
   "outputs": [
    {
     "name": "stdout",
     "output_type": "stream",
     "text": [
      "{'Log_Regression': 'Logistic Regression\\nAccuracy: 0.9532163742690059\\nConfusion Matrix:\\n [[102   1]\\n [  7  61]]', 'DT': 'Decision Tree\\nAccuracy: 0.9415204678362573\\nConfusion Matrix:\\n [[101   2]\\n [  8  60]]', 'RF': 'Random Forest\\nAccuracy: 0.935672514619883\\nConfusion Matrix:\\n [[102   1]\\n [ 10  58]]', 'KNN': 'KNN\\nAccuracy: 0.9473684210526315\\nConfusion Matrix:\\n [[102   1]\\n [  8  60]]', 'KernelSVM(RBF)': 'Kernel SVM (RBF)\\nAccuracy: 0.9473684210526315\\nConfusion Matrix:\\n [[101   2]\\n [  7  61]]', 'LinearSVM': 'Linear SVM\\nAccuracy: 0.9532163742690059\\nConfusion Matrix:\\n [[102   1]\\n [  7  61]]', 'Naive_Bayes': 'Naive Bayes\\nAccuracy: 0.9649122807017544\\nConfusion Matrix:\\n [[100   3]\\n [  3  65]]', 'XGBoost': 'XGBoost\\nAccuracy: 0.9473684210526315\\nConfusion Matrix:\\n [[102   1]\\n [  8  60]]'}\n"
     ]
    }
   ],
   "source": [
    "from pathlib import Path\n",
    "import nbformat\n",
    "\n",
    "# Define all notebook paths\n",
    "notebook_paths = [\n",
    "    \"WK1_Assignment2_Log_Regression.ipynb\",\n",
    "    \"WK1_Assignment2_DT.ipynb\",\n",
    "    \"WK1_Assignment2_RF.ipynb\",\n",
    "    \"WK1_Assignment2_KNN.ipynb\",\n",
    "    \"WK1_Assignment2_KernelSVM(RBF).ipynb\",\n",
    "    \"WK1_Assignment2_LinearSVM.ipynb\",\n",
    "    \"Wk1_Assignment2_Naive_Bayes.ipynb\",\n",
    "    \"Wk1_Assignment2_XGBoost.ipynb\"\n",
    "]\n",
    "\n",
    "# Load and extract outputs to find accuracy\n",
    "def extract_accuracies(notebook_paths):\n",
    "    results = {}\n",
    "    for path in notebook_paths:\n",
    "        full_path = Path(path)\n",
    "        with open(full_path, 'r', encoding='utf-8') as f:\n",
    "            nb = nbformat.read(f, as_version=4)\n",
    "        for cell in nb.cells:\n",
    "            if cell.cell_type == 'code' and 'accuracy' in cell.source.lower():\n",
    "                for output in cell.get('outputs', []):\n",
    "                    if output.output_type == 'stream' and 'Accuracy' in output.get('text', ''):\n",
    "                        model_name = Path(path).stem.replace(\"WK1_Assignment2_\", \"\").replace(\"Wk1_Assignment2_\", \"\")\n",
    "                        results[model_name] = output.text.strip()\n",
    "    return results\n",
    "\n",
    "accuracy_results = extract_accuracies(notebook_paths)\n",
    "print(accuracy_results)\n"
   ]
  },
  {
   "cell_type": "code",
   "execution_count": null,
   "id": "3e1db4d9-0b70-45f1-8c88-d003d7ea6a43",
   "metadata": {},
   "outputs": [],
   "source": []
  }
 ],
 "metadata": {
  "kernelspec": {
   "display_name": "Python 3 (ipykernel)",
   "language": "python",
   "name": "python3"
  },
  "language_info": {
   "codemirror_mode": {
    "name": "ipython",
    "version": 3
   },
   "file_extension": ".py",
   "mimetype": "text/x-python",
   "name": "python",
   "nbconvert_exporter": "python",
   "pygments_lexer": "ipython3",
   "version": "3.12.7"
  }
 },
 "nbformat": 4,
 "nbformat_minor": 5
}
