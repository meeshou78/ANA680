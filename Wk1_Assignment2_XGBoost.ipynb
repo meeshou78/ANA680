{
 "cells": [
  {
   "cell_type": "code",
   "execution_count": 10,
   "id": "381318dc-c146-45c5-a381-ad505d1009dd",
   "metadata": {},
   "outputs": [
    {
     "name": "stdout",
     "output_type": "stream",
     "text": [
      "Collecting xgboost\n",
      "  Downloading xgboost-3.0.0-py3-none-win_amd64.whl.metadata (2.1 kB)\n",
      "Requirement already satisfied: numpy in c:\\users\\miran\\anaconda3-2\\lib\\site-packages (from xgboost) (1.26.4)\n",
      "Requirement already satisfied: scipy in c:\\users\\miran\\anaconda3-2\\lib\\site-packages (from xgboost) (1.13.1)\n",
      "Downloading xgboost-3.0.0-py3-none-win_amd64.whl (150.0 MB)\n",
      "   ---------------------------------------- 0.0/150.0 MB ? eta -:--:--\n",
      "   - -------------------------------------- 4.2/150.0 MB 22.9 MB/s eta 0:00:07\n",
      "   --- ------------------------------------ 14.7/150.0 MB 40.0 MB/s eta 0:00:04\n",
      "   ---------- ----------------------------- 37.7/150.0 MB 64.9 MB/s eta 0:00:02\n",
      "   --------------- ------------------------ 56.9/150.0 MB 72.4 MB/s eta 0:00:02\n",
      "   -------------------- ------------------- 75.5/150.0 MB 76.4 MB/s eta 0:00:01\n",
      "   ------------------------ --------------- 91.2/150.0 MB 77.6 MB/s eta 0:00:01\n",
      "   ----------------------------- --------- 112.2/150.0 MB 80.5 MB/s eta 0:00:01\n",
      "   ----------------------------------- --- 137.6/150.0 MB 85.3 MB/s eta 0:00:01\n",
      "   --------------------------------------  149.9/150.0 MB 87.1 MB/s eta 0:00:01\n",
      "   --------------------------------------- 150.0/150.0 MB 74.9 MB/s eta 0:00:00\n",
      "Installing collected packages: xgboost\n",
      "Successfully installed xgboost-3.0.0\n"
     ]
    }
   ],
   "source": [
    "#!pip install xgboost\n"
   ]
  },
  {
   "cell_type": "code",
   "execution_count": 12,
   "id": "f3e2955b-f35f-41c6-8889-abe0a0a6bb1e",
   "metadata": {},
   "outputs": [
    {
     "name": "stdout",
     "output_type": "stream",
     "text": [
      "XGBoost\n",
      "Accuracy: 0.9473684210526315\n",
      "Confusion Matrix:\n",
      " [[102   1]\n",
      " [  8  60]]\n"
     ]
    }
   ],
   "source": [
    "# xgboost_model.py\n",
    "from xgboost import XGBClassifier\n",
    "from sklearn.metrics import accuracy_score, confusion_matrix\n",
    "from common_dataset import load_and_prepare_data\n",
    "\n",
    "X_train, X_test, y_train, y_test = load_and_prepare_data()\n",
    "\n",
    "model = XGBClassifier(eval_metric='logloss', max_depth=3, learning_rate=0.1, n_estimators=100)\n",
    "model.fit(X_train, y_train)\n",
    "y_pred = model.predict(X_test)\n",
    "\n",
    "print(\"XGBoost\")\n",
    "print(\"Accuracy:\", accuracy_score(y_test, y_pred))\n",
    "print(\"Confusion Matrix:\\n\", confusion_matrix(y_test, y_pred))"
   ]
  },
  {
   "cell_type": "code",
   "execution_count": null,
   "id": "b396e813-62c9-4846-ac91-cb3de7d97899",
   "metadata": {},
   "outputs": [],
   "source": []
  }
 ],
 "metadata": {
  "kernelspec": {
   "display_name": "Python 3 (ipykernel)",
   "language": "python",
   "name": "python3"
  },
  "language_info": {
   "codemirror_mode": {
    "name": "ipython",
    "version": 3
   },
   "file_extension": ".py",
   "mimetype": "text/x-python",
   "name": "python",
   "nbconvert_exporter": "python",
   "pygments_lexer": "ipython3",
   "version": "3.12.7"
  }
 },
 "nbformat": 4,
 "nbformat_minor": 5
}
