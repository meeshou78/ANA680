{
 "cells": [
  {
   "cell_type": "code",
   "execution_count": 2,
   "id": "44d1f4ad-4a29-4d3e-9b44-2c5e12552da5",
   "metadata": {},
   "outputs": [
    {
     "name": "stdout",
     "output_type": "stream",
     "text": [
      "Model trained and saved to: C:/Users/MIran/ANA680/WK2_Assignment_Files/naive_bayes_model.pkl\n"
     ]
    }
   ],
   "source": [
    "# File: WK2_Assignment_Files/retrain_naive_bayes.ipynb\n",
    "\n",
    "import pickle\n",
    "from sklearn.naive_bayes import GaussianNB\n",
    "from sklearn.metrics import accuracy_score, confusion_matrix\n",
    "from common_dataset import load_and_prepare_data\n",
    "\n",
    "\n",
    "X_train, X_test, y_train, y_test = load_and_prepare_data()\n",
    "\n",
    "\n",
    "# Train Naive Bayes model\n",
    "model = GaussianNB()\n",
    "model.fit(X_train, y_train)\n",
    "\n",
    "# Save trained model\n",
    "model_save_path = \"C:/Users/MIran/ANA680/WK2_Assignment_Files/naive_bayes_model.pkl\"\n",
    "with open(model_save_path, \"wb\") as f:\n",
    "    pickle.dump(model, f)\n",
    "\n",
    "print(\"Model trained and saved to:\", model_save_path)\n"
   ]
  }
 ],
 "metadata": {
  "kernelspec": {
   "display_name": "Python 3 (ipykernel)",
   "language": "python",
   "name": "python3"
  },
  "language_info": {
   "codemirror_mode": {
    "name": "ipython",
    "version": 3
   },
   "file_extension": ".py",
   "mimetype": "text/x-python",
   "name": "python",
   "nbconvert_exporter": "python",
   "pygments_lexer": "ipython3",
   "version": "3.12.7"
  }
 },
 "nbformat": 4,
 "nbformat_minor": 5
}
